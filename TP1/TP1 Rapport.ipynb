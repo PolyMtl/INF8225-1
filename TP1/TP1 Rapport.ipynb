{
 "cells": [
  {
   "cell_type": "code",
   "execution_count": 2,
   "metadata": {
    "collapsed": false
   },
   "outputs": [
    {
     "data": {
      "image/png": "[encoded data removed]",
      "text/plain": [
       "<IPython.core.display.Image object>"
      ]
     },
     "metadata": {},
     "output_type": "display_data"
    },
    {
     "name": "stdout",
     "output_type": "stream",
     "text": [
      "ans = \n",
      "\n",
      "           Brut         Smart  \n",
      "         _________    _________\n",
      "\n",
      "    C        0.001        0.001\n",
      "    T        0.002        0.002\n",
      "    A    0.0025164    0.0025164\n",
      "    M     0.052139     0.052139\n",
      "    J     0.011736     0.011736\n"
     ]
    }
   ],
   "source": [
    "C=1; T=2; A=3; M=4; J=5;\n",
    "names = ['C' 'T' 'A' 'M' 'J'];\n",
    "VRAI = 1; FAUX = 2;\n",
    "\n",
    "pCond{C} = reshape([0.001 0.999],2,1);  % C\n",
    "pCond{T} = reshape([0.002 0.998],2,1);  % T\n",
    "pCond{A} = reshape([0.95 0.29 0.94 0.001 0.05 0.71 0.06 0.999],2,2,2);  % C T A\n",
    "pCond{M} = reshape([0.90 0.05 0.10 0.95],2,2);   % A M\n",
    "pCond{J} = reshape([0.70 0.01 0.30 0.99],2,2);   % A J\n",
    "\n",
    "pJointe = @(e) ( pCond{C}(e(C)) ...\n",
    "               * pCond{T}(e(T)) ...\n",
    "               * pCond{A}(e(C),e(T),e(A)) ...\n",
    "               * pCond{M}(e(A),e(M)) ...\n",
    "               * pCond{J}(e(A),e(J)) );\n",
    "\n",
    "\n",
    "%% Proba Jointe                   \n",
    "[probaJointe Omega] = computeProba(pJointe, [0 0 0 0 0]);\n",
    "\n",
    "\n",
    "%% Histogramme\n",
    "smartBar(probaJointe, Omega, names);\n"
   ]
  },
  {
   "cell_type": "code",
   "execution_count": 5,
   "metadata": {
    "collapsed": false
   },
   "outputs": [
    {
     "name": "stdout",
     "output_type": "stream",
     "text": [
      "p1 =\n",
      "\n",
      "    0.0051\n",
      "\n",
      "\n",
      "p2 =\n",
      "\n",
      "    0.0069\n",
      "\n",
      "\n",
      "p3 =\n",
      "\n",
      "    0.2842\n",
      "\n",
      "\n",
      "p4 =\n",
      "\n",
      "   9.0184e-05\n",
      "\n",
      "\n",
      "p4b =\n",
      "\n",
      "    0.9999\n",
      "\n",
      "\n",
      "p5 =\n",
      "\n",
      "    0.0163\n",
      "\n",
      "\n",
      "p6 =\n",
      "\n",
      "    0.0561\n"
     ]
    }
   ],
   "source": [
    "%% Proba Marginales\n",
    "p1 = computeMarginal(pJointe, [VRAI 0 0 0 0], [0 0 0 VRAI FAUX])\n",
    "p2 = computeMarginal(pJointe, [VRAI 0 0 0 0], [0 0 0 FAUX VRAI])\n",
    "p3 = computeMarginal(pJointe, [VRAI 0 0 0 0], [0 0 0 VRAI VRAI])\n",
    "p4 = computeMarginal(pJointe, [VRAI 0 0 0 0], [0 0 0 FAUX FAUX])\n",
    "p4b= computeMarginal(pJointe, [FAUX 0 0 0 0], [0 0 0 FAUX FAUX])\n",
    "\n",
    "p5 = computeMarginal(pJointe, [VRAI 0 0 0 0], [0 0 0 VRAI 0])\n",
    "p6 = computeMarginal(pJointe, [VRAI 0 0 0 0], [0 0 0 0 VRAI])\n",
    "\n"
   ]
  },
  {
   "cell_type": "code",
   "execution_count": 6,
   "metadata": {
    "collapsed": false
   },
   "outputs": [
    {
     "name": "stdout",
     "output_type": "stream",
     "text": [
      "ans = \n",
      "\n",
      "           Brut         Smart  \n",
      "         _________    _________\n",
      "\n",
      "    C        0.001        0.001\n",
      "    T        0.002        0.002\n",
      "    A    0.0025164    0.0025164\n",
      "    M     0.052139     0.052139\n",
      "    J     0.011736     0.011736\n"
     ]
    }
   ],
   "source": [
    "%% Proba Inconditionnelles\n",
    "pCb = sum(computeProba(pJointe, [VRAI 0 0 0 0]));\n",
    "pTb = sum(computeProba(pJointe, [0 VRAI 0 0 0]));\n",
    "pAb = sum(computeProba(pJointe, [0 0 VRAI 0 0]));\n",
    "pMb = sum(computeProba(pJointe, [0 0 0 VRAI 0]));\n",
    "pJb = sum(computeProba(pJointe, [0 0 0 0 VRAI]));\n",
    "\n",
    "% On peut aussi calculer ces probabilités de manières plus intelligente:\n",
    "pC = pCond{C}(VRAI);\n",
    "pT = pCond{T}(VRAI);\n",
    "pA = ( pCond{A}(VRAI,VRAI,VRAI)*pC*pT       ...\n",
    "     + pCond{A}(FAUX,VRAI,VRAI)*(1-pC)*pT   ...\n",
    "     + pCond{A}(VRAI,FAUX,VRAI)*pC*(1-pT)   ...\n",
    "     + pCond{A}(FAUX,FAUX,VRAI)*(1-pC)*(1-pT) );\n",
    "pM = ( pCond{M}(VRAI,VRAI)*pA + pCond{M}(FAUX,VRAI)*(1-pA) );\n",
    "pJ = ( pCond{J}(VRAI,VRAI)*pA + pCond{J}(FAUX,VRAI)*(1-pA) );\n",
    "\n",
    "% Comparaison\n",
    "Brut = [pCb pTb pAb pMb pJb]';\n",
    "Smart = [pC pT  pA  pM  pJ]';\n",
    "table(Brut, Smart, 'RowNames', num2cell(names'))"
   ]
  },
  {
   "cell_type": "code",
   "execution_count": null,
   "metadata": {
    "collapsed": true
   },
   "outputs": [],
   "source": []
  }
 ],
 "metadata": {
  "kernelspec": {
   "display_name": "Matlab",
   "language": "matlab",
   "name": "matlab"
  },
  "language_info": {
   "codemirror_mode": "octave",
   "file_extension": ".m",
   "help_links": [
    {
     "text": "MetaKernel Magics",
     "url": "https://github.com/calysto/metakernel/blob/master/metakernel/magics/README.md"
    }
   ],
   "mimetype": "text/x-octave",
   "name": "matlab",
   "version": "0.11.0"
  }
 },
 "nbformat": 4,
 "nbformat_minor": 2
}
